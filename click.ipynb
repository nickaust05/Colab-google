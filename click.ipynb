{
  "nbformat": 4,
  "nbformat_minor": 0,
  "metadata": {
    "colab": {
      "provenance": [],
      "authorship_tag": "ABX9TyO87F2LGbN5C9MuVt9zdSHV",
      "include_colab_link": true
    },
    "kernelspec": {
      "name": "python3",
      "display_name": "Python 3"
    },
    "language_info": {
      "name": "python"
    }
  },
  "cells": [
    {
      "cell_type": "markdown",
      "metadata": {
        "id": "view-in-github",
        "colab_type": "text"
      },
      "source": [
        "<a href=\"https://colab.research.google.com/github/nickaust05/Colab-google/blob/main/click.ipynb\" target=\"_parent\"><img src=\"https://colab.research.google.com/assets/colab-badge.svg\" alt=\"Open In Colab\"/></a>"
      ]
    },
    {
      "cell_type": "markdown",
      "source": [
        "# Click\n",
        "\n",
        "Now you call your wrapped function using its name rather than the decorator name. Pre-built functions intended as decorators are offered both as part of the Python Standard Library (staticMethod, classMethod) and as part of third-party packages, such as Flask and Click.\n",
        "\n",
        "\n",
        "######Sample #####\n",
        "https://click.palletsprojects.com/en/8.1.x/\n",
        "\n",
        "import click\n",
        "\n",
        "@click.command()\n",
        "@click.option('--count', default=1, help='Number of greetings.')\n",
        "@click.option('--name', prompt='Your name',\n",
        "              help='The person to greet.')\n",
        "def hello(count, name):\n",
        "    \"\"\"Simple program that greets NAME for a total of COUNT times.\"\"\"\n",
        "    for x in range(count):\n",
        "        click.echo(f\"Hello {name}!\")\n",
        "\n",
        "if __name__ == '__main__':\n",
        "    hello()\n",
        "\n"
      ],
      "metadata": {
        "id": "Zf2ylnRGikHL"
      }
    },
    {
      "cell_type": "code",
      "source": [
        "!pip list -v | grep click"
      ],
      "metadata": {
        "colab": {
          "base_uri": "https://localhost:8080/"
        },
        "id": "IoG4hZbkoBLK",
        "outputId": "6dca9fdc-33f4-42a8-9e70-74d37e7bfb3a"
      },
      "execution_count": 24,
      "outputs": [
        {
          "output_type": "stream",
          "name": "stdout",
          "text": [
            "click                         8.1.3                 /usr/local/lib/python3.10/dist-packages pip\n"
          ]
        }
      ]
    },
    {
      "cell_type": "code",
      "source": [
        "!pip install click"
      ],
      "metadata": {
        "colab": {
          "base_uri": "https://localhost:8080/"
        },
        "id": "tkY_6nKhnfng",
        "outputId": "35c8c918-d8ac-49a2-9e73-2622f1ab1c99"
      },
      "execution_count": 25,
      "outputs": [
        {
          "output_type": "stream",
          "name": "stdout",
          "text": [
            "Looking in indexes: https://pypi.org/simple, https://us-python.pkg.dev/colab-wheels/public/simple/\n",
            "Requirement already satisfied: click in /usr/local/lib/python3.10/dist-packages (8.1.3)\n"
          ]
        }
      ]
    },
    {
      "cell_type": "code",
      "execution_count": 21,
      "metadata": {
        "colab": {
          "base_uri": "https://localhost:8080/"
        },
        "id": "SMpeVSGQicSX",
        "outputId": "6d4d6bd9-ea0b-4f94-b9f3-e3c1a8f098a1"
      },
      "outputs": [
        {
          "output_type": "stream",
          "name": "stdout",
          "text": [
            "Overwriting click.py\n"
          ]
        }
      ],
      "source": [
        "%%writefile click.py\n",
        "#!/usr/local/bin/python\n",
        "\"\"\"\n",
        "Simple click example\n",
        "\"\"\"\n",
        "\n",
        "import click\n",
        "\n",
        "@click.command()\n",
        "\n",
        "\n",
        "@click.option('--greeting',default = 'Hiya',\n",
        "        help = 'How do you want to greet?')\n",
        "@click.option('--name',default = 'Tammy',\n",
        "        help = 'Who do you want to greet?')\n",
        "\n",
        "def greet(greeting,name):\n",
        "  print(f'{greeting} {name}')\n",
        "\n",
        "\n",
        "if __name__ == '__main__':\n",
        "  greet()\n",
        "\n",
        "\n",
        "\n"
      ]
    },
    {
      "cell_type": "code",
      "source": [
        "!chmod u+x click.py\n",
        "!ls -la"
      ],
      "metadata": {
        "colab": {
          "base_uri": "https://localhost:8080/"
        },
        "id": "RIGhNcoukLQw",
        "outputId": "96fc181f-f0be-4a6f-b9ee-4476f9b68f2f"
      },
      "execution_count": 22,
      "outputs": [
        {
          "output_type": "stream",
          "name": "stdout",
          "text": [
            "total 24\n",
            "drwxr-xr-x 1 root root 4096 Jun 18 12:54 .\n",
            "drwxr-xr-x 1 root root 4096 Jun 18 12:52 ..\n",
            "-rwxr--r-- 1 root root  361 Jun 18 13:08 click.py\n",
            "drwxr-xr-x 4 root root 4096 Jun 14 18:26 .config\n",
            "drwxr-xr-x 2 root root 4096 Jun 18 13:07 __pycache__\n",
            "drwxr-xr-x 1 root root 4096 Jun 14 18:27 sample_data\n"
          ]
        }
      ]
    },
    {
      "cell_type": "code",
      "source": [
        "!./click.py --greeting Privet --name Peggy"
      ],
      "metadata": {
        "colab": {
          "base_uri": "https://localhost:8080/"
        },
        "id": "5baNuCP3kYNq",
        "outputId": "078fc788-f010-4a73-d6bd-501d2263d81b"
      },
      "execution_count": 27,
      "outputs": [
        {
          "output_type": "stream",
          "name": "stdout",
          "text": [
            "Traceback (most recent call last):\n",
            "  File \"/content/./click.py\", line 6, in <module>\n",
            "    import click\n",
            "  File \"/content/click.py\", line 8, in <module>\n",
            "    @click.command()\n",
            "AttributeError: partially initialized module 'click' has no attribute 'command' (most likely due to a circular import)\n"
          ]
        }
      ]
    }
  ]
}