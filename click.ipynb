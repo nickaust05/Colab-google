{
  "nbformat": 4,
  "nbformat_minor": 0,
  "metadata": {
    "colab": {
      "provenance": [],
      "authorship_tag": "ABX9TyNf37kpZrR5qFq++TB6Y6bh",
      "include_colab_link": true
    },
    "kernelspec": {
      "name": "python3",
      "display_name": "Python 3"
    },
    "language_info": {
      "name": "python"
    }
  },
  "cells": [
    {
      "cell_type": "markdown",
      "metadata": {
        "id": "view-in-github",
        "colab_type": "text"
      },
      "source": [
        "<a href=\"https://colab.research.google.com/github/nickaust05/Colab-google/blob/main/click.ipynb\" target=\"_parent\"><img src=\"https://colab.research.google.com/assets/colab-badge.svg\" alt=\"Open In Colab\"/></a>"
      ]
    },
    {
      "cell_type": "markdown",
      "source": [
        "# Click\n",
        "\n",
        "Now you call your wrapped function using its name rather than the decorator name. Pre-built functions intended as decorators are offered both as part of the Python Standard Library (staticMethod, classMethod) and as part of third-party packages, such as Flask and Click.\n",
        "\n",
        "\n",
        "######Sample #####\n",
        "https://click.palletsprojects.com/en/8.1.x/\n",
        "\n",
        "import click\n",
        "\n",
        "@click.command()\n",
        "@click.option('--count', default=1, help='Number of greetings.')\n",
        "@click.option('--name', prompt='Your name',\n",
        "              help='The person to greet.')\n",
        "def hello(count, name):\n",
        "    \"\"\"Simple program that greets NAME for a total of COUNT times.\"\"\"\n",
        "    for x in range(count):\n",
        "        click.echo(f\"Hello {name}!\")\n",
        "\n",
        "if __name__ == '__main__':\n",
        "    hello()\n",
        "\n"
      ],
      "metadata": {
        "id": "Zf2ylnRGikHL"
      }
    },
    {
      "cell_type": "code",
      "execution_count": 10,
      "metadata": {
        "colab": {
          "base_uri": "https://localhost:8080/"
        },
        "id": "SMpeVSGQicSX",
        "outputId": "eb3cabf7-9d52-420d-e30e-f3ba5859a31c"
      },
      "outputs": [
        {
          "output_type": "stream",
          "name": "stdout",
          "text": [
            "Overwriting click.py\n"
          ]
        }
      ],
      "source": [
        "%%writefile click.py\n",
        "#!/usr/local/bin/python\n",
        "\"\"\"\n",
        "Simple click example\n",
        "\"\"\"\n",
        "\n",
        "import click\n",
        "\n",
        "@click.command()\n",
        "\n",
        "@click.command()\n",
        "@click.option('--greeting',default = 'Hiya',\n",
        "        help = 'How do you want to greet?')\n",
        "@click.option('--name',default = 'Tammy',\n",
        "        help = 'Who do you want to greet?')\n",
        "\n",
        "def greet(greeting,name):\n",
        "  print(f'{greeting} {name}')\n",
        "\n",
        "\n",
        "if __name__ == '__main__':\n",
        "  greet()\n",
        "\n",
        "\n",
        "\n"
      ]
    },
    {
      "cell_type": "code",
      "source": [
        "!chmod u+x click.py\n",
        "!ls -la"
      ],
      "metadata": {
        "colab": {
          "base_uri": "https://localhost:8080/"
        },
        "id": "RIGhNcoukLQw",
        "outputId": "df5cc19f-28a1-4499-f90b-b7482a6a43e0"
      },
      "execution_count": 11,
      "outputs": [
        {
          "output_type": "stream",
          "name": "stdout",
          "text": [
            "total 24\n",
            "drwxr-xr-x 1 root root 4096 Jun 18 12:54 .\n",
            "drwxr-xr-x 1 root root 4096 Jun 18 12:52 ..\n",
            "-rwxr--r-- 1 root root  377 Jun 18 12:56 click.py\n",
            "drwxr-xr-x 4 root root 4096 Jun 14 18:26 .config\n",
            "drwxr-xr-x 2 root root 4096 Jun 18 12:54 __pycache__\n",
            "drwxr-xr-x 1 root root 4096 Jun 14 18:27 sample_data\n"
          ]
        }
      ]
    },
    {
      "cell_type": "code",
      "source": [
        "!./click.py --greeting Privet --name Peggy"
      ],
      "metadata": {
        "colab": {
          "base_uri": "https://localhost:8080/"
        },
        "id": "5baNuCP3kYNq",
        "outputId": "1e77dfde-19c6-40ce-948d-384d192349da"
      },
      "execution_count": 12,
      "outputs": [
        {
          "output_type": "stream",
          "name": "stdout",
          "text": [
            "Traceback (most recent call last):\n",
            "  File \"/content/./click.py\", line 6, in <module>\n",
            "    import click\n",
            "  File \"/content/click.py\", line 8, in <module>\n",
            "    @click.command()\n",
            "AttributeError: partially initialized module 'click' has no attribute 'command' (most likely due to a circular import)\n"
          ]
        }
      ]
    }
  ]
}