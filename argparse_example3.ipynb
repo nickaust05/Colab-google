{
  "nbformat": 4,
  "nbformat_minor": 0,
  "metadata": {
    "colab": {
      "provenance": [],
      "authorship_tag": "ABX9TyOlp1ExWxZwFFEa6c97RiGL",
      "include_colab_link": true
    },
    "kernelspec": {
      "name": "python3",
      "display_name": "Python 3"
    },
    "language_info": {
      "name": "python"
    }
  },
  "cells": [
    {
      "cell_type": "markdown",
      "metadata": {
        "id": "view-in-github",
        "colab_type": "text"
      },
      "source": [
        "<a href=\"https://colab.research.google.com/github/nickaust05/Colab-google/blob/main/argparse_example3.ipynb\" target=\"_parent\"><img src=\"https://colab.research.google.com/assets/colab-badge.svg\" alt=\"Open In Colab\"/></a>"
      ]
    },
    {
      "cell_type": "code",
      "execution_count": 14,
      "metadata": {
        "colab": {
          "base_uri": "https://localhost:8080/"
        },
        "id": "X-X0ivL5cxxW",
        "outputId": "451d8823-934a-4a93-bdf9-bbc499bd1586"
      },
      "outputs": [
        {
          "output_type": "stream",
          "name": "stdout",
          "text": [
            "Overwriting argparse_example3.py\n"
          ]
        }
      ],
      "source": [
        "%%writefile argparse_example3.py\n",
        "#!/usr/local/bin/python\n",
        "\"\"\"\n",
        "Command-line tool using argparse\n",
        "\"\"\"\n",
        "\n",
        "import argparse\n",
        "\n",
        "def sail():\n",
        "    ship_name = 'Your ship'\n",
        "    print(f\"{ship_name} is setting sail\")\n",
        "\n",
        "def list_ships():\n",
        "    ships = ['John B', 'Yankee Clipper', 'Pequod']\n",
        "    print(f\"Ships: {','.join(ships)}\")\n",
        "\n",
        "def greet(greeting, name):\n",
        "    message = f'{greeting} {name}'\n",
        "    print(message)\n",
        "\n",
        "if __name__ == '__main__':\n",
        "    parser = argparse.ArgumentParser(description='Maritime control')\n",
        "\n",
        "    parser.add_argument('--twice', '-t',\n",
        "                        help='Do it twice',\n",
        "                        action='store_true')\n",
        "\n",
        "    subparsers = parser.add_subparsers(dest='func')\n",
        "\n",
        "    ship_parser =  subparsers.add_parser('ships',\n",
        "                                         help='Ship related commands')\n",
        "    ship_parser.add_argument('command',\n",
        "                             choices=['list', 'sail'])\n",
        "\n",
        "    sailor_parser = subparsers.add_parser('sailors',\n",
        "                                          help='Talk to a sailor')\n",
        "    sailor_parser.add_argument('name',\n",
        "                               help='Sailors name')\n",
        "    sailor_parser.add_argument('--greeting', '-g',\n",
        "                               help='Greeting',\n",
        "                               default='Ahoy there')\n",
        "\n",
        "    args = parser.parse_args()\n",
        "    if args.func == 'sailors':\n",
        "        greet(args.greeting, args.name)\n",
        "    elif args.command == 'list':\n",
        "        list_ships()\n",
        "    else:\n",
        "        sail()"
      ]
    },
    {
      "cell_type": "code",
      "source": [
        "!ls -la\n",
        "!chmod u+x argparse_example3.py\n"
      ],
      "metadata": {
        "colab": {
          "base_uri": "https://localhost:8080/"
        },
        "id": "Pe5ukVjDdmhW",
        "outputId": "23b70ba4-a5b9-4b99-c222-bba9e31ddbde"
      },
      "execution_count": 12,
      "outputs": [
        {
          "output_type": "stream",
          "name": "stdout",
          "text": [
            "total 20\n",
            "drwxr-xr-x 1 root root 4096 Jun 18 12:24 .\n",
            "drwxr-xr-x 1 root root 4096 Jun 18 12:22 ..\n",
            "-rwxr--r-- 1 root root 1387 Jun 18 12:31 argparse_example3.py\n",
            "drwxr-xr-x 4 root root 4096 Jun 14 18:26 .config\n",
            "drwxr-xr-x 1 root root 4096 Jun 14 18:27 sample_data\n"
          ]
        }
      ]
    },
    {
      "cell_type": "code",
      "source": [
        "!./argparse_example3.py --help"
      ],
      "metadata": {
        "colab": {
          "base_uri": "https://localhost:8080/"
        },
        "id": "29iEIc0Kdx9r",
        "outputId": "0f271f0b-f779-41cb-d3ea-c9dfdf13fb0e"
      },
      "execution_count": 15,
      "outputs": [
        {
          "output_type": "stream",
          "name": "stdout",
          "text": [
            "usage: argparse_example3.py\n",
            "       [-h]\n",
            "       [--twice]\n",
            "       {ships,sailors}\n",
            "       ...\n",
            "\n",
            "Maritime\n",
            "control\n",
            "\n",
            "positional arguments:\n",
            "  {ships,sailors}\n",
            "    ships\n",
            "    Ship\n",
            "    related\n",
            "    commands\n",
            "    sailors\n",
            "    Talk to a\n",
            "    sailor\n",
            "\n",
            "options:\n",
            "  -h, --help\n",
            "    show this\n",
            "    help\n",
            "    message and\n",
            "    exit\n",
            "  --twice, -t\n",
            "    Do it twice\n"
          ]
        }
      ]
    }
  ]
}