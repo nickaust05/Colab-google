{
  "nbformat": 4,
  "nbformat_minor": 0,
  "metadata": {
    "colab": {
      "provenance": [],
      "toc_visible": true,
      "authorship_tag": "ABX9TyNTdF50NnFkTgysbugalPzj",
      "include_colab_link": true
    },
    "kernelspec": {
      "name": "python3",
      "display_name": "Python 3"
    },
    "language_info": {
      "name": "python"
    }
  },
  "cells": [
    {
      "cell_type": "markdown",
      "metadata": {
        "id": "view-in-github",
        "colab_type": "text"
      },
      "source": [
        "<a href=\"https://colab.research.google.com/github/nickaust05/Colab-google/blob/main/play3.ipynb\" target=\"_parent\"><img src=\"https://colab.research.google.com/assets/colab-badge.svg\" alt=\"Open In Colab\"/></a>"
      ]
    },
    {
      "cell_type": "code",
      "execution_count": null,
      "metadata": {
        "colab": {
          "base_uri": "https://localhost:8080/"
        },
        "id": "Op877ol2dvRs",
        "outputId": "42c260f8-73e5-49f5-80f2-42883509d46f"
      },
      "outputs": [
        {
          "output_type": "stream",
          "name": "stdout",
          "text": [
            " the result is 9\n"
          ]
        }
      ],
      "source": [
        "X = 5\n",
        "Y = 4\n",
        "result = X+Y\n",
        "print(f\" the result is {result}\")\n",
        "\n",
        "\n"
      ]
    },
    {
      "cell_type": "code",
      "source": [],
      "metadata": {
        "id": "n_skOsngVHhh"
      },
      "execution_count": null,
      "outputs": []
    },
    {
      "cell_type": "code",
      "source": [
        "###Data Structure ###\n",
        "\n",
        "#List\n",
        "mylist = []\n",
        "mylist.append(\"Cherry\")\n",
        "print(mylist)\n",
        "mylist.append(\"Banana\")\n",
        "print (mylist)\n",
        "\n",
        "for fruit in mylist:\n",
        "  print(fruit)\n",
        "\n",
        "\n"
      ],
      "metadata": {
        "colab": {
          "base_uri": "https://localhost:8080/"
        },
        "id": "ZHDQidb3epJd",
        "outputId": "d7ea0bc4-488f-40f2-c016-3fd83c8a1ec4"
      },
      "execution_count": null,
      "outputs": [
        {
          "output_type": "stream",
          "name": "stdout",
          "text": [
            "['Cherry']\n",
            "['Cherry', 'Banana']\n",
            "Cherry\n",
            "Banana\n"
          ]
        }
      ]
    },
    {
      "cell_type": "code",
      "source": [
        "container = []\n",
        "for _ in range(5):\n",
        "  container.append(\"Banana\")\n",
        "print(container)"
      ],
      "metadata": {
        "colab": {
          "base_uri": "https://localhost:8080/"
        },
        "id": "ci77dy1_gRqO",
        "outputId": "a61ae12f-c866-4bd1-afa0-ea6eb503ae71"
      },
      "execution_count": null,
      "outputs": [
        {
          "output_type": "stream",
          "name": "stdout",
          "text": [
            "['Banana', 'Banana', 'Banana', 'Banana', 'Banana']\n"
          ]
        }
      ]
    },
    {
      "cell_type": "code",
      "source": [
        "from random import choices\n",
        "\n",
        "fruits = [\"Banana\", \"Apple\", \"Cherry\", \"Pear\"]\n",
        "fruit_salad = []\n",
        "for _ in range(10):\n",
        "  fruit_salad.append(choices(fruits))\n",
        "print(fruit_salad)"
      ],
      "metadata": {
        "colab": {
          "base_uri": "https://localhost:8080/"
        },
        "id": "H8Y0hKpbglnG",
        "outputId": "4b9a96e2-4bad-457e-f67c-1bb4e099e972"
      },
      "execution_count": null,
      "outputs": [
        {
          "output_type": "stream",
          "name": "stdout",
          "text": [
            "[['Cherry'], ['Banana'], ['Pear'], ['Banana'], ['Cherry'], ['Pear'], ['Pear'], ['Apple'], ['Cherry'], ['Apple']]\n"
          ]
        }
      ]
    },
    {
      "cell_type": "code",
      "source": [],
      "metadata": {
        "id": "HmwvkjWSh_kj"
      },
      "execution_count": null,
      "outputs": []
    },
    {
      "cell_type": "markdown",
      "source": [
        "#Dictionary\n",
        "\n",
        "\n"
      ],
      "metadata": {
        "id": "1k3-wXkliAHx"
      }
    },
    {
      "cell_type": "code",
      "source": [
        "meals = {\"breakfast\":\"Coffee\", \"Lunch\":\"Berger\", \"DInner\":\"Noodle\"}\n",
        "\n"
      ],
      "metadata": {
        "id": "dVK8UO7QiIOH"
      },
      "execution_count": null,
      "outputs": []
    },
    {
      "cell_type": "code",
      "source": [
        "meals.values()\n"
      ],
      "metadata": {
        "colab": {
          "base_uri": "https://localhost:8080/"
        },
        "id": "qbkIX09rjRZj",
        "outputId": "dd07f3af-d301-41ed-b8fa-0604cb4c9e14"
      },
      "execution_count": null,
      "outputs": [
        {
          "output_type": "execute_result",
          "data": {
            "text/plain": [
              "dict_values(['Coffee', 'Berger', 'Noodle'])"
            ]
          },
          "metadata": {},
          "execution_count": 22
        }
      ]
    },
    {
      "cell_type": "code",
      "source": [
        "meals.keys()\n"
      ],
      "metadata": {
        "colab": {
          "base_uri": "https://localhost:8080/"
        },
        "id": "YIBXyrApjbmn",
        "outputId": "46396d28-f77f-45dc-eef8-b288905159cf"
      },
      "execution_count": null,
      "outputs": [
        {
          "output_type": "execute_result",
          "data": {
            "text/plain": [
              "dict_keys(['breakfast', 'Lunch', 'DInner'])"
            ]
          },
          "metadata": {},
          "execution_count": 23
        }
      ]
    },
    {
      "cell_type": "code",
      "source": [
        "meals.items()\n"
      ],
      "metadata": {
        "colab": {
          "base_uri": "https://localhost:8080/"
        },
        "id": "0KkSqcq2jh4J",
        "outputId": "99e8a86a-abd1-4c75-c6ce-01edb2b14984"
      },
      "execution_count": null,
      "outputs": [
        {
          "output_type": "execute_result",
          "data": {
            "text/plain": [
              "dict_items([('breakfast', 'Coffee'), ('Lunch', 'Berger'), ('DInner', 'Noodle')])"
            ]
          },
          "metadata": {},
          "execution_count": 24
        }
      ]
    },
    {
      "cell_type": "code",
      "source": [
        "for meal_name,food in meals.items():\n",
        "  print(f\" for {meal_name}, I want to eat {food}.\")"
      ],
      "metadata": {
        "colab": {
          "base_uri": "https://localhost:8080/"
        },
        "id": "vLJU9tBvjrgU",
        "outputId": "1a687fa8-64ff-47e4-a560-a0d7184d094f"
      },
      "execution_count": null,
      "outputs": [
        {
          "output_type": "stream",
          "name": "stdout",
          "text": [
            " for breakfast, I want to eat Coffee.\n",
            " for Lunch, I want to eat Berger.\n",
            " for DInner, I want to eat Noodle.\n"
          ]
        }
      ]
    },
    {
      "cell_type": "markdown",
      "source": [
        "# Set up a for loop in one line"
      ],
      "metadata": {
        "id": "yNFiDv38VD7e"
      }
    },
    {
      "cell_type": "code",
      "source": [
        "guards = \"full, half, open\"\n",
        "\n",
        "guard_list = [ f'{guard}-guard' for guard in guards.split(\",\")]\n",
        "guard_list"
      ],
      "metadata": {
        "id": "NIOnnizskGc9",
        "colab": {
          "base_uri": "https://localhost:8080/"
        },
        "outputId": "dd815e34-1eda-4122-8641-fb3e0a8557ba"
      },
      "execution_count": 12,
      "outputs": [
        {
          "output_type": "execute_result",
          "data": {
            "text/plain": [
              "['full-guard', ' half-guard', ' open-guard']"
            ]
          },
          "metadata": {},
          "execution_count": 12
        }
      ]
    },
    {
      "cell_type": "markdown",
      "source": [
        "\n",
        "# ZIP function - like a transpost of matrix"
      ],
      "metadata": {
        "id": "dpO4EKVOYkyN"
      }
    },
    {
      "cell_type": "code",
      "source": [
        "my_list_matrix = [ [1,2,3],\n",
        "                  [4,5,6],\n",
        "                   [7,8,9]\n",
        "]\n",
        "list(zip(*my_list_matrix))\n",
        "\n",
        "\n"
      ],
      "metadata": {
        "colab": {
          "base_uri": "https://localhost:8080/"
        },
        "id": "Rn6h0W3AYtCm",
        "outputId": "0cf51cf1-d2dd-4913-9e4e-2a47b79948b2"
      },
      "execution_count": 14,
      "outputs": [
        {
          "output_type": "execute_result",
          "data": {
            "text/plain": [
              "[(1, 4, 7), (2, 5, 8), (3, 6, 9)]"
            ]
          },
          "metadata": {},
          "execution_count": 14
        }
      ]
    },
    {
      "cell_type": "markdown",
      "source": [
        "# Creat a set\n"
      ],
      "metadata": {
        "id": "QcsmGPcRZltS"
      }
    },
    {
      "cell_type": "code",
      "source": [
        "unique_attack = set ((\"armbar\",\"sidebar\",\"topbar\",\"topbar\",\"nobar\"))\n",
        "print(type(unique_attack))\n",
        "unique_attack"
      ],
      "metadata": {
        "colab": {
          "base_uri": "https://localhost:8080/"
        },
        "id": "lj23rVJNZoM8",
        "outputId": "f94714b7-09f1-4bb5-d19c-5be6ed8d722c"
      },
      "execution_count": 16,
      "outputs": [
        {
          "output_type": "stream",
          "name": "stdout",
          "text": [
            "<class 'set'>\n"
          ]
        },
        {
          "output_type": "execute_result",
          "data": {
            "text/plain": [
              "{'armbar', 'nobar', 'sidebar', 'topbar'}"
            ]
          },
          "metadata": {},
          "execution_count": 16
        }
      ]
    },
    {
      "cell_type": "code",
      "source": [
        "attack_1 = set((\"armbar\",\"kimura\", \"topbar\"))\n",
        "attack_2 = set((\"sidebar\",\"kimura\", \"lowbar\"))\n",
        "unique_set_one = attack_1 - attack_2\n",
        "unique_set_one"
      ],
      "metadata": {
        "colab": {
          "base_uri": "https://localhost:8080/"
        },
        "id": "vCH69rU4aUlq",
        "outputId": "d9b5dea2-9dbf-4c3f-ab35-c80174820f81"
      },
      "execution_count": 17,
      "outputs": [
        {
          "output_type": "execute_result",
          "data": {
            "text/plain": [
              "{'armbar', 'topbar'}"
            ]
          },
          "metadata": {},
          "execution_count": 17
        }
      ]
    },
    {
      "cell_type": "markdown",
      "source": [
        "# Create a wrtie file\n"
      ],
      "metadata": {
        "id": "kCE6D_uCcCBa"
      }
    },
    {
      "cell_type": "code",
      "source": [
        "f = open(\"workfile.txt\",'w')\n",
        "f.write(\"foo20\\n\")\n",
        "f.write(\"foo3\\n\")\n",
        "f.write(\"foo4\\n\")\n",
        "f.close()\n",
        "\n",
        "!cat workfile.txt\n",
        "#! ls -l\n",
        "\n"
      ],
      "metadata": {
        "colab": {
          "base_uri": "https://localhost:8080/"
        },
        "id": "rlSvAdyXcGEx",
        "outputId": "ef94d668-a652-4f77-9c13-3457983a19d2"
      },
      "execution_count": 19,
      "outputs": [
        {
          "output_type": "stream",
          "name": "stdout",
          "text": [
            "foo20\n",
            "foo3\n",
            "foo4\n"
          ]
        }
      ]
    },
    {
      "cell_type": "code",
      "source": [
        "#similar code to above\n",
        "my_write = [\"foo20\\n\",\"foo3\\n\",\"foo4\\n\"]\n",
        "f = open(\"workfile2.txt\",\"w\")\n",
        "for mylist in my_write:\n",
        "    f.writelines(mylist)\n",
        "f.close()\n",
        "\n",
        "!cat workfile2.txt\n",
        "\n"
      ],
      "metadata": {
        "colab": {
          "base_uri": "https://localhost:8080/"
        },
        "id": "ALlDf_OPc_MT",
        "outputId": "a730456a-02b1-41f2-ccd8-a9832fefe94d"
      },
      "execution_count": 20,
      "outputs": [
        {
          "output_type": "stream",
          "name": "stdout",
          "text": [
            "foo20\n",
            "foo3\n",
            "foo4\n"
          ]
        }
      ]
    },
    {
      "cell_type": "markdown",
      "source": [
        "# Create a write file with \"with\" cmd\n"
      ],
      "metadata": {
        "id": "lT6D2mYBd2Zp"
      }
    },
    {
      "cell_type": "code",
      "source": [
        "with open(\"workfile3.txt\",\"w\") as workfile:\n",
        "  workfile.write(\"bam\")\n",
        "\n",
        "!cat workfile3.txt"
      ],
      "metadata": {
        "colab": {
          "base_uri": "https://localhost:8080/"
        },
        "id": "XtshoeOieCzY",
        "outputId": "d421be65-df7d-4428-edcd-34f61c193a47"
      },
      "execution_count": 21,
      "outputs": [
        {
          "output_type": "stream",
          "name": "stdout",
          "text": [
            "bam"
          ]
        }
      ]
    },
    {
      "cell_type": "markdown",
      "source": [
        "# Read a file"
      ],
      "metadata": {
        "id": "maRwAUVXeb_5"
      }
    },
    {
      "cell_type": "code",
      "source": [
        "with open(\"workfile.txt\",\"r\") as workfile:\n",
        "  out = workfile.readlines()\n",
        "  print(out)\n",
        "\n"
      ],
      "metadata": {
        "colab": {
          "base_uri": "https://localhost:8080/"
        },
        "id": "i7mnPdBoeeYP",
        "outputId": "c456a179-2a0d-445f-c6b1-5b887b9f04ea"
      },
      "execution_count": 23,
      "outputs": [
        {
          "output_type": "stream",
          "name": "stdout",
          "text": [
            "['foo20\\n', 'foo3\\n', 'foo4\\n']\n"
          ]
        }
      ]
    },
    {
      "cell_type": "markdown",
      "source": [
        "# Serialize output for dictionary with pickle\n"
      ],
      "metadata": {
        "id": "IfNgCcwGffCy"
      }
    },
    {
      "cell_type": "code",
      "source": [
        "import pickle\n",
        "mydict = { \"one\":1 , \"two\":2}\n",
        "pickle.dump(mydict,open(\"mydictionary.pickle\",\"wb\"))\n",
        "\n",
        "!ls -la mydictionary.pickle\n",
        "\n",
        "res = pickle.load(open(\"mydictionary.pickle\",\"rb\"))\n",
        "print(res)\n",
        "\n"
      ],
      "metadata": {
        "colab": {
          "base_uri": "https://localhost:8080/"
        },
        "id": "MDc0qtUKfke-",
        "outputId": "0cb6f6f5-19fb-4e5f-e6e6-c700ff97bc9c"
      },
      "execution_count": 24,
      "outputs": [
        {
          "output_type": "stream",
          "name": "stdout",
          "text": [
            "-rw-r--r-- 1 root root 32 Jun 13 06:47 mydictionary.pickle\n",
            "{'one': 1, 'two': 2}\n"
          ]
        }
      ]
    },
    {
      "cell_type": "markdown",
      "source": [
        "# Using Json to write the file in json format\n",
        "# Serialise Dictionary to json"
      ],
      "metadata": {
        "id": "mYaFMa-hiMzz"
      }
    },
    {
      "cell_type": "code",
      "source": [
        "import json\n",
        "with open('data.json','w') as outfile:\n",
        "  json.dump(res,outfile)\n",
        "\n",
        "!ls -la data.json\n",
        "!cat data.json"
      ],
      "metadata": {
        "colab": {
          "base_uri": "https://localhost:8080/"
        },
        "id": "USSgTCOsiPWQ",
        "outputId": "3f3da171-997f-4328-d06b-6b962f7a635b"
      },
      "execution_count": 25,
      "outputs": [
        {
          "output_type": "stream",
          "name": "stdout",
          "text": [
            "-rw-r--r-- 1 root root 20 Jun 13 06:57 data.json\n",
            "{\"one\": 1, \"two\": 2}"
          ]
        }
      ]
    },
    {
      "cell_type": "markdown",
      "source": [
        "# Read a file with json format\n"
      ],
      "metadata": {
        "id": "jCghl2vgjNAE"
      }
    },
    {
      "cell_type": "code",
      "source": [
        "import json\n",
        "with open(\"data.json\",'rb') as outfile:\n",
        "  res2 = json.load(outfile)\n",
        "\n",
        "print(res2)\n",
        "type(res2)\n",
        ""
      ],
      "metadata": {
        "colab": {
          "base_uri": "https://localhost:8080/"
        },
        "id": "oXBI5mXjjR0-",
        "outputId": "9b5c6720-c031-4412-aca5-d76124e24a6e"
      },
      "execution_count": 28,
      "outputs": [
        {
          "output_type": "stream",
          "name": "stdout",
          "text": [
            "{'one': 1, 'two': 2}\n"
          ]
        },
        {
          "output_type": "execute_result",
          "data": {
            "text/plain": [
              "dict"
            ]
          },
          "metadata": {},
          "execution_count": 28
        }
      ]
    },
    {
      "cell_type": "markdown",
      "source": [
        "# Save to yaml\n"
      ],
      "metadata": {
        "id": "pi15UXxCj8YY"
      }
    },
    {
      "cell_type": "code",
      "source": [
        "import yaml\n",
        "with open(\"data.yaml\",\"w\") as yamlfile:\n",
        "  yaml.safe_dump(res2,yamlfile,default_flow_style=False)\n",
        "\n",
        "!cat data.yaml"
      ],
      "metadata": {
        "colab": {
          "base_uri": "https://localhost:8080/"
        },
        "id": "QrcQ1KqNkM4H",
        "outputId": "297e815e-893e-43f0-cd2f-22cff962f7f5"
      },
      "execution_count": 32,
      "outputs": [
        {
          "output_type": "stream",
          "name": "stdout",
          "text": [
            "one: 1\n",
            "two: 2\n"
          ]
        }
      ]
    },
    {
      "cell_type": "code",
      "source": [],
      "metadata": {
        "id": "c5gTpJWLlWBq"
      },
      "execution_count": null,
      "outputs": []
    },
    {
      "cell_type": "markdown",
      "source": [
        "#Load Yaml\n"
      ],
      "metadata": {
        "id": "S1HqndqwlT8U"
      }
    },
    {
      "cell_type": "code",
      "source": [
        "with open(\"data.yaml\",\"rb\") as yamlfile:\n",
        "  res3 = yaml.safe_load(yamlfile)\n",
        "print(res3)"
      ],
      "metadata": {
        "colab": {
          "base_uri": "https://localhost:8080/"
        },
        "id": "aPBprGz5lXXo",
        "outputId": "0952210f-d854-4d4d-e891-63e56840fb46"
      },
      "execution_count": 33,
      "outputs": [
        {
          "output_type": "stream",
          "name": "stdout",
          "text": [
            "{'one': 1, 'two': 2}\n"
          ]
        }
      ]
    },
    {
      "cell_type": "code",
      "source": [
        "type(res3)"
      ],
      "metadata": {
        "colab": {
          "base_uri": "https://localhost:8080/"
        },
        "id": "dHX-pX7YlxNf",
        "outputId": "85b00abf-0146-4385-8471-1e68326e1002"
      },
      "execution_count": 34,
      "outputs": [
        {
          "output_type": "execute_result",
          "data": {
            "text/plain": [
              "dict"
            ]
          },
          "metadata": {},
          "execution_count": 34
        }
      ]
    },
    {
      "cell_type": "markdown",
      "source": [
        "# Manage file using os.path and pathlib"
      ],
      "metadata": {
        "id": "ofywjS1PnAvZ"
      }
    },
    {
      "cell_type": "code",
      "source": [
        "import os\n",
        "import pathlib\n",
        "\n",
        "path = \"somedir\"\n",
        "pathlib.Path(path).mkdir(parents=True,exist_ok=True)\n",
        "\n",
        "!ls -la somedir\n",
        "!pwd"
      ],
      "metadata": {
        "colab": {
          "base_uri": "https://localhost:8080/"
        },
        "id": "EHcLy_OFnJCp",
        "outputId": "5bfe1b6e-617f-4643-f0a4-f3259b69d979"
      },
      "execution_count": 38,
      "outputs": [
        {
          "output_type": "stream",
          "name": "stdout",
          "text": [
            "total 8\n",
            "drwxr-xr-x 2 root root 4096 Jun 13 07:20 .\n",
            "drwxr-xr-x 1 root root 4096 Jun 13 07:20 ..\n",
            "/content\n"
          ]
        }
      ]
    },
    {
      "cell_type": "code",
      "source": [
        "import pathlib\n",
        "\n",
        "pathvar1 = pathlib.Path(\"newdir\")\n",
        "pathvar2 = pathlib.Path(\"somedir\")\n",
        "\n"
      ],
      "metadata": {
        "colab": {
          "base_uri": "https://localhost:8080/"
        },
        "id": "DPJJ-2-0oeKm",
        "outputId": "5a36dbe1-f67f-4e4f-cf80-601b7e5db4f1"
      },
      "execution_count": 39,
      "outputs": [
        {
          "output_type": "execute_result",
          "data": {
            "text/plain": [
              "True"
            ]
          },
          "metadata": {},
          "execution_count": 39
        }
      ]
    },
    {
      "cell_type": "code",
      "source": [
        "pathvar1.exists()\n"
      ],
      "metadata": {
        "colab": {
          "base_uri": "https://localhost:8080/"
        },
        "id": "VZ-gHNvSpCEP",
        "outputId": "9ca7ec62-bada-4c73-d8a2-13c13132a392"
      },
      "execution_count": 40,
      "outputs": [
        {
          "output_type": "execute_result",
          "data": {
            "text/plain": [
              "False"
            ]
          },
          "metadata": {},
          "execution_count": 40
        }
      ]
    },
    {
      "cell_type": "code",
      "source": [
        "pathvar2.exists()"
      ],
      "metadata": {
        "colab": {
          "base_uri": "https://localhost:8080/"
        },
        "id": "7YM5VN8wpF9c",
        "outputId": "e9f30ab2-5fe2-499b-c5ed-51a9de4cb0ad"
      },
      "execution_count": 41,
      "outputs": [
        {
          "output_type": "execute_result",
          "data": {
            "text/plain": [
              "True"
            ]
          },
          "metadata": {},
          "execution_count": 41
        }
      ]
    },
    {
      "cell_type": "code",
      "source": [
        "pathvar1.write_text(\"woo\")\n"
      ],
      "metadata": {
        "colab": {
          "base_uri": "https://localhost:8080/"
        },
        "id": "Q5OuQURFpO7b",
        "outputId": "c005c2e5-5516-4d58-ba81-36355c6c611f"
      },
      "execution_count": 42,
      "outputs": [
        {
          "output_type": "execute_result",
          "data": {
            "text/plain": [
              "3"
            ]
          },
          "metadata": {},
          "execution_count": 42
        }
      ]
    },
    {
      "cell_type": "code",
      "source": [
        "!cat newdir"
      ],
      "metadata": {
        "colab": {
          "base_uri": "https://localhost:8080/"
        },
        "id": "T9Qwi7copapp",
        "outputId": "3f0c9aea-1b12-4239-a4f1-e5b87da5c652"
      },
      "execution_count": 43,
      "outputs": [
        {
          "output_type": "stream",
          "name": "stdout",
          "text": [
            "woo"
          ]
        }
      ]
    },
    {
      "cell_type": "markdown",
      "source": [
        "# rename the file\n"
      ],
      "metadata": {
        "id": "7DchQA_Lp4i5"
      }
    },
    {
      "cell_type": "code",
      "source": [
        "from pathlib import Path\n",
        "\n",
        "p = Path('foo.txt')\n",
        "p.open('w').write('Bam')\n",
        "\n",
        "\n",
        "print(\"Before Rename\")\n",
        "!ls -l *.txt\n",
        "\n",
        "\n",
        "out = Path('bar.txt')\n",
        "p.rename(out)\n",
        "\n",
        "print(\"After rename\")\n",
        "!ls -l *.txt\n",
        "!cat bar.txt\n",
        "!rm bar.txt\n",
        "\n"
      ],
      "metadata": {
        "colab": {
          "base_uri": "https://localhost:8080/"
        },
        "id": "dptMdgdBp7uF",
        "outputId": "4f275f9f-03e3-468c-f7ed-65666bfd5789"
      },
      "execution_count": 49,
      "outputs": [
        {
          "output_type": "stream",
          "name": "stdout",
          "text": [
            "Before Rename\n",
            "-rw-r--r-- 1 root root  3 Jun 13 07:38 foo.txt\n",
            "-rw-r--r-- 1 root root 16 Jun 13 06:35 workfile2.txt\n",
            "-rw-r--r-- 1 root root  3 Jun 13 06:37 workfile3.txt\n",
            "-rw-r--r-- 1 root root 16 Jun 13 06:31 workfile.txt\n",
            "After rename\n",
            "-rw-r--r-- 1 root root  3 Jun 13 07:38 bar.txt\n",
            "-rw-r--r-- 1 root root 16 Jun 13 06:35 workfile2.txt\n",
            "-rw-r--r-- 1 root root  3 Jun 13 06:37 workfile3.txt\n",
            "-rw-r--r-- 1 root root 16 Jun 13 06:31 workfile.txt\n",
            "Bam"
          ]
        }
      ]
    },
    {
      "cell_type": "markdown",
      "source": [
        "#fnmatch\n"
      ],
      "metadata": {
        "id": "9B8C16Z9ssnH"
      }
    },
    {
      "cell_type": "code",
      "source": [
        "import fnmatch\n",
        "\n",
        "files = [\"data1.csv\",\"script.py\",\"data2.csv\",\"all.py\"]\n",
        "\n",
        "def csv_match(files):\n",
        "  \"\"\" Return matches csv files \"\"\"\n",
        "\n",
        "  matches = fnmatch(files,\"*.csv\")\n",
        "  return matches\n",
        "\n",
        "print(f\"Found match csv: {csv_match(files)}\")"
      ],
      "metadata": {
        "colab": {
          "base_uri": "https://localhost:8080/",
          "height": 329
        },
        "id": "AQx5Ojojsu6S",
        "outputId": "2d458ad9-2690-4276-e6cc-532bf24569ff"
      },
      "execution_count": 50,
      "outputs": [
        {
          "output_type": "error",
          "ename": "TypeError",
          "evalue": "ignored",
          "traceback": [
            "\u001b[0;31m---------------------------------------------------------------------------\u001b[0m",
            "\u001b[0;31mTypeError\u001b[0m                                 Traceback (most recent call last)",
            "\u001b[0;32m<ipython-input-50-d0bcdf83df72>\u001b[0m in \u001b[0;36m<cell line: 11>\u001b[0;34m()\u001b[0m\n\u001b[1;32m      9\u001b[0m   \u001b[0;32mreturn\u001b[0m \u001b[0mmatches\u001b[0m\u001b[0;34m\u001b[0m\u001b[0;34m\u001b[0m\u001b[0m\n\u001b[1;32m     10\u001b[0m \u001b[0;34m\u001b[0m\u001b[0m\n\u001b[0;32m---> 11\u001b[0;31m \u001b[0mprint\u001b[0m\u001b[0;34m(\u001b[0m\u001b[0;34mf\"Found match csv: {csv_match(files)}\"\u001b[0m\u001b[0;34m)\u001b[0m\u001b[0;34m\u001b[0m\u001b[0;34m\u001b[0m\u001b[0m\n\u001b[0m",
            "\u001b[0;32m<ipython-input-50-d0bcdf83df72>\u001b[0m in \u001b[0;36mcsv_match\u001b[0;34m(files)\u001b[0m\n\u001b[1;32m      6\u001b[0m   \u001b[0;34m\"\"\" Return matches csv files \"\"\"\u001b[0m\u001b[0;34m\u001b[0m\u001b[0;34m\u001b[0m\u001b[0m\n\u001b[1;32m      7\u001b[0m \u001b[0;34m\u001b[0m\u001b[0m\n\u001b[0;32m----> 8\u001b[0;31m   \u001b[0mmatches\u001b[0m \u001b[0;34m=\u001b[0m \u001b[0mfnmatch\u001b[0m\u001b[0;34m(\u001b[0m\u001b[0mfiles\u001b[0m\u001b[0;34m,\u001b[0m\u001b[0;34m\"*.csv\"\u001b[0m\u001b[0;34m)\u001b[0m\u001b[0;34m\u001b[0m\u001b[0;34m\u001b[0m\u001b[0m\n\u001b[0m\u001b[1;32m      9\u001b[0m   \u001b[0;32mreturn\u001b[0m \u001b[0mmatches\u001b[0m\u001b[0;34m\u001b[0m\u001b[0;34m\u001b[0m\u001b[0m\n\u001b[1;32m     10\u001b[0m \u001b[0;34m\u001b[0m\u001b[0m\n",
            "\u001b[0;31mTypeError\u001b[0m: 'module' object is not callable"
          ]
        }
      ]
    },
    {
      "cell_type": "markdown",
      "source": [
        "#Archive ?\n"
      ],
      "metadata": {
        "id": "za7REWomtvZC"
      }
    },
    {
      "cell_type": "code",
      "source": [
        "from shutil import make_archive\n",
        "import os\n",
        "\n",
        "username = \"user1\"\n",
        "#Archive path\n",
        "root_dir = \"/tmp\"\n",
        "\n",
        "path = f\"{root_dir}/{username}\"\n",
        "\n",
        "# create tar and gzip\n",
        "\n",
        "make_archive(username,\"gztar\",root_dir)\n",
        "\n",
        "#creat zip archive\n",
        "make_archive(username,\"zip\",root_dir)\n",
        "\n",
        "print(os.listdir(\"/tmp\"))\n",
        "\n",
        "!ls -la /tmp"
      ],
      "metadata": {
        "colab": {
          "base_uri": "https://localhost:8080/"
        },
        "id": "LljNcvkatxhg",
        "outputId": "cd952327-5aec-4e14-f46f-ed91a895476a"
      },
      "execution_count": 52,
      "outputs": [
        {
          "output_type": "stream",
          "name": "stdout",
          "text": [
            "['debugger_dxa0sclqo', 'initgoogle_syslog_dir.0', 'language_service.f48ac93a6fc7.root.log.ERROR.20230613-074519.302', 'language_service.f48ac93a6fc7.root.log.INFO.20230613-053926.302', 'python-languageserver-cancellation', 'pyright-310-JPjc6oRnht3g', 'pyright-310-ayM861lDU5Ak', 'dap_multiplexer.INFO', 'language_service.WARNING', 'language_service.ERROR', 'language_service.INFO', 'dap_multiplexer.f48ac93a6fc7.root.log.INFO.20230613-053844.81', 'language_service.f48ac93a6fc7.root.log.WARNING.20230613-074519.302']\n",
            "total 356\n",
            "drwxrwxrwt 1 root root   4096 Jun 13 07:45 .\n",
            "drwxr-xr-x 1 root root   4096 Jun 13 05:38 ..\n",
            "-rw-r--r-- 1 root root   1183 Jun 13 05:38 dap_multiplexer.f48ac93a6fc7.root.log.INFO.20230613-053844.81\n",
            "lrwxrwxrwx 1 root root     61 Jun 13 05:38 dap_multiplexer.INFO -> dap_multiplexer.f48ac93a6fc7.root.log.INFO.20230613-053844.81\n",
            "srwxr-xr-x 1 root root      0 Jun 13 05:38 debugger_dxa0sclqo\n",
            "drwx------ 2 root root   4096 Jun 13 05:38 initgoogle_syslog_dir.0\n",
            "lrwxrwxrwx 1 root root     64 Jun 13 07:45 language_service.ERROR -> language_service.f48ac93a6fc7.root.log.ERROR.20230613-074519.302\n",
            "-rw-r--r-- 1 root root  21978 Jun 13 07:45 language_service.f48ac93a6fc7.root.log.ERROR.20230613-074519.302\n",
            "-rw-r--r-- 1 root root 262412 Jun 13 07:54 language_service.f48ac93a6fc7.root.log.INFO.20230613-053926.302\n",
            "-rw-r--r-- 1 root root  21978 Jun 13 07:45 language_service.f48ac93a6fc7.root.log.WARNING.20230613-074519.302\n",
            "lrwxrwxrwx 1 root root     63 Jun 13 05:39 language_service.INFO -> language_service.f48ac93a6fc7.root.log.INFO.20230613-053926.302\n",
            "lrwxrwxrwx 1 root root     66 Jun 13 07:45 language_service.WARNING -> language_service.f48ac93a6fc7.root.log.WARNING.20230613-074519.302\n",
            "drwx------ 2 root root   4096 Jun 13 05:39 pyright-310-ayM861lDU5Ak\n",
            "drwx------ 2 root root   4096 Jun 13 05:39 pyright-310-JPjc6oRnht3g\n",
            "drwxr-xr-x 3 root root   4096 Jun 13 05:39 python-languageserver-cancellation\n"
          ]
        }
      ]
    },
    {
      "cell_type": "markdown",
      "source": [
        "#OS.walk"
      ],
      "metadata": {
        "id": "EBZcWj4azRlM"
      }
    },
    {
      "cell_type": "code",
      "source": [
        "import os\n",
        "from os.path import join,getsize\n",
        "\n",
        "for root,dirs,files in os.walk(\"/tmp\"):\n",
        "  print(f\"files that I found: {files}\")\n",
        "  for name in files:\n",
        "    fullpath = join(root,name)\n",
        "    print(f\"full path to files: {fullpath}\")"
      ],
      "metadata": {
        "colab": {
          "base_uri": "https://localhost:8080/"
        },
        "id": "vcYrzutJzT2s",
        "outputId": "5ad77018-3b08-4635-d74e-dfc0c7359426"
      },
      "execution_count": 54,
      "outputs": [
        {
          "output_type": "stream",
          "name": "stdout",
          "text": [
            "files that I found: ['debugger_dxa0sclqo', 'language_service.f48ac93a6fc7.root.log.ERROR.20230613-074519.302', 'language_service.f48ac93a6fc7.root.log.INFO.20230613-053926.302', 'dap_multiplexer.INFO', 'language_service.WARNING', 'language_service.ERROR', 'language_service.INFO', 'dap_multiplexer.f48ac93a6fc7.root.log.INFO.20230613-053844.81', 'language_service.f48ac93a6fc7.root.log.WARNING.20230613-074519.302']\n",
            "full path to files: /tmp/debugger_dxa0sclqo\n",
            "full path to files: /tmp/language_service.f48ac93a6fc7.root.log.ERROR.20230613-074519.302\n",
            "full path to files: /tmp/language_service.f48ac93a6fc7.root.log.INFO.20230613-053926.302\n",
            "full path to files: /tmp/dap_multiplexer.INFO\n",
            "full path to files: /tmp/language_service.WARNING\n",
            "full path to files: /tmp/language_service.ERROR\n",
            "full path to files: /tmp/language_service.INFO\n",
            "full path to files: /tmp/dap_multiplexer.f48ac93a6fc7.root.log.INFO.20230613-053844.81\n",
            "full path to files: /tmp/language_service.f48ac93a6fc7.root.log.WARNING.20230613-074519.302\n",
            "files that I found: ['unknown']\n",
            "full path to files: /tmp/initgoogle_syslog_dir.0/unknown\n",
            "files that I found: []\n",
            "files that I found: []\n",
            "files that I found: []\n",
            "files that I found: []\n"
          ]
        }
      ]
    },
    {
      "cell_type": "markdown",
      "source": [
        "# get files data\n"
      ],
      "metadata": {
        "id": "uaM6746j0jmy"
      }
    },
    {
      "cell_type": "code",
      "source": [
        "import os\n",
        "location = \"/tmp/dap_multiplexer.INFO\"\n",
        "result = os.stat(location)\n",
        "\n",
        "result"
      ],
      "metadata": {
        "colab": {
          "base_uri": "https://localhost:8080/"
        },
        "id": "hbBkj8aE0nAn",
        "outputId": "96435e4e-312b-46d0-960d-c9e84ddc657f"
      },
      "execution_count": 55,
      "outputs": [
        {
          "output_type": "execute_result",
          "data": {
            "text/plain": [
              "os.stat_result(st_mode=33188, st_ino=5636131, st_dev=49, st_nlink=1, st_uid=0, st_gid=0, st_size=1183, st_atime=1686642754, st_mtime=1686634727, st_ctime=1686634727)"
            ]
          },
          "metadata": {},
          "execution_count": 55
        }
      ]
    },
    {
      "cell_type": "code",
      "source": [
        "result.st_gid\n"
      ],
      "metadata": {
        "colab": {
          "base_uri": "https://localhost:8080/"
        },
        "id": "6mvow7IO2SsS",
        "outputId": "4bcd310a-560e-4ff8-ac9d-34351fe0010d"
      },
      "execution_count": 60,
      "outputs": [
        {
          "output_type": "execute_result",
          "data": {
            "text/plain": [
              "0"
            ]
          },
          "metadata": {},
          "execution_count": 60
        }
      ]
    },
    {
      "cell_type": "code",
      "source": [
        "result.st_size"
      ],
      "metadata": {
        "colab": {
          "base_uri": "https://localhost:8080/"
        },
        "id": "NBxbA_ZW2dm-",
        "outputId": "09a407c5-4456-4a9f-b6f0-3de987846a52"
      },
      "execution_count": 59,
      "outputs": [
        {
          "output_type": "execute_result",
          "data": {
            "text/plain": [
              "1183"
            ]
          },
          "metadata": {},
          "execution_count": 59
        }
      ]
    },
    {
      "cell_type": "markdown",
      "source": [
        "# Health check"
      ],
      "metadata": {
        "id": "NZPuaI-83e3T"
      }
    },
    {
      "cell_type": "code",
      "source": [
        "import os\n",
        "import subprocess\n",
        "\n",
        "# file location\n",
        "\n",
        "file_location = \"/tmp/file.txt\"\n",
        "expected_uid = 501\n",
        "\n",
        "# touch file\n",
        "proc = subprocess.Popen([\"touch\",file_location])\n",
        "\n",
        "stat = os.stat(file_location)"
      ],
      "metadata": {
        "colab": {
          "base_uri": "https://localhost:8080/",
          "height": 204
        },
        "id": "5o_dG79K3hR-",
        "outputId": "1dec1b86-2f12-4840-fb41-15d67ffe30c9"
      },
      "execution_count": 63,
      "outputs": [
        {
          "output_type": "error",
          "ename": "FileNotFoundError",
          "evalue": "ignored",
          "traceback": [
            "\u001b[0;31m---------------------------------------------------------------------------\u001b[0m",
            "\u001b[0;31mFileNotFoundError\u001b[0m                         Traceback (most recent call last)",
            "\u001b[0;32m<ipython-input-63-731d7a011269>\u001b[0m in \u001b[0;36m<cell line: 12>\u001b[0;34m()\u001b[0m\n\u001b[1;32m     10\u001b[0m \u001b[0mproc\u001b[0m \u001b[0;34m=\u001b[0m \u001b[0msubprocess\u001b[0m\u001b[0;34m.\u001b[0m\u001b[0mPopen\u001b[0m\u001b[0;34m(\u001b[0m\u001b[0;34m[\u001b[0m\u001b[0;34m\"touch\"\u001b[0m\u001b[0;34m,\u001b[0m\u001b[0mfile_location\u001b[0m\u001b[0;34m]\u001b[0m\u001b[0;34m)\u001b[0m\u001b[0;34m\u001b[0m\u001b[0;34m\u001b[0m\u001b[0m\n\u001b[1;32m     11\u001b[0m \u001b[0;34m\u001b[0m\u001b[0m\n\u001b[0;32m---> 12\u001b[0;31m \u001b[0mstat\u001b[0m \u001b[0;34m=\u001b[0m \u001b[0mos\u001b[0m\u001b[0;34m.\u001b[0m\u001b[0mstat\u001b[0m\u001b[0;34m(\u001b[0m\u001b[0mfile_location\u001b[0m\u001b[0;34m)\u001b[0m\u001b[0;34m\u001b[0m\u001b[0;34m\u001b[0m\u001b[0m\n\u001b[0m",
            "\u001b[0;31mFileNotFoundError\u001b[0m: [Errno 2] No such file or directory: '/tmp/file.txt'"
          ]
        }
      ]
    },
    {
      "cell_type": "markdown",
      "source": [
        "#glob finding filetype\n"
      ],
      "metadata": {
        "id": "9QLwn3HZG7Dh"
      }
    },
    {
      "cell_type": "code",
      "source": [
        "import glob\n",
        "!touch foo.csv && touch bar.txt\n",
        "\n",
        "glob.glob(\"*.csv\")"
      ],
      "metadata": {
        "colab": {
          "base_uri": "https://localhost:8080/"
        },
        "id": "AAKY8GCyG81w",
        "outputId": "34154ca2-dab5-411d-effe-e4d52f4be707"
      },
      "execution_count": 64,
      "outputs": [
        {
          "output_type": "execute_result",
          "data": {
            "text/plain": [
              "['foo.csv']"
            ]
          },
          "metadata": {},
          "execution_count": 64
        }
      ]
    },
    {
      "cell_type": "markdown",
      "source": [
        "#Statement\n"
      ],
      "metadata": {
        "id": "GDWEp8iXIgKY"
      }
    },
    {
      "cell_type": "markdown",
      "source": [
        "##Hello World\n"
      ],
      "metadata": {
        "id": "i6fcHRqBIlsQ"
      }
    },
    {
      "cell_type": "markdown",
      "source": [
        "###Print"
      ],
      "metadata": {
        "id": "-PU1m5BsItR4"
      }
    }
  ]
}